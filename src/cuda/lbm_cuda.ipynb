{
  "cells": [
    {
      "cell_type": "markdown",
      "metadata": {
        "id": "XCY89sm8nRyY"
      },
      "source": [
        "# Lattice Boltzmann Method (LBM) - 2D Lid-Driven Cavity Simulation with CUDA\n",
        "\n",
        "This notebook runs a 2D LBM simulation for a lid-driven cavity flow using CUDA.\n",
        "\n",
        "### Instructions:\n",
        "1. Upload your CUDA source file (`lbm_2D_liddrivencavity.cu`) in the next cell.\n",
        "2. The file will be compiled with `nvcc`.\n",
        "3. The compiled executable will run the simulation on the GPU.\n",
        "\n",
        "> **Note:** Make sure GPU support is enabled:  \n",
        "> `Runtime > Change runtime type > Hardware accelerator: T4 GPU`\n"
      ]
    },
    {
      "cell_type": "code",
      "execution_count": null,
      "metadata": {
        "colab": {
          "base_uri": "https://localhost:8080/",
          "height": 74
        },
        "id": "4nG7cXyXleXs",
        "outputId": "6d853b2b-2412-4c6c-d82b-d3b23905667e"
      },
      "outputs": [],
      "source": [
        "# Upload your CUDA source file\n",
        "from google.colab import files\n",
        "uploaded = files.upload()"
      ]
    },
    {
      "cell_type": "markdown",
      "metadata": {
        "id": "2hKSM4Wflp0Q"
      },
      "source": [
        "## Compile the CUDA program\n",
        "\n",
        "This will compile your `.cu` file with optimization and GPU support using compute capability 7.0 (Volta architecture).\n"
      ]
    },
    {
      "cell_type": "code",
      "execution_count": null,
      "metadata": {
        "id": "Q8OHRMx1lj41"
      },
      "outputs": [],
      "source": [
        "# Compile the source file with nvcc\n",
        "!nvcc -o lbm_cuda lbm_2D_liddrivencavity.cu -std=c++17 -O2 -arch=sm_70"
      ]
    },
    {
      "cell_type": "markdown",
      "metadata": {
        "id": "5rNKAfKiloMV"
      },
      "source": [
        "## Run the simulation\n",
        "\n",
        "This will execute the compiled LBM simulation on the GPU (insert the paramenter instead to <..>)."
      ]
    },
    {
      "cell_type": "code",
      "execution_count": null,
      "metadata": {
        "colab": {
          "base_uri": "https://localhost:8080/"
        },
        "id": "JqrrU1MxSTI4",
        "outputId": "b4ddd2eb-37bd-4f3e-d1f8-f8f2a1510d99"
      },
      "outputs": [],
      "source": [
        "# Run the compiled binary\n",
        "!./lbm_cuda <mesh_size_x> <mesh_size_y> <number_of_steps> <reynolds_number> <iter_per_frame> <lid_velocity>"
      ]
    }
  ],
  "metadata": {
    "accelerator": "GPU",
    "colab": {
      "gpuType": "T4",
      "provenance": []
    },
    "kernelspec": {
      "display_name": "Python 3",
      "name": "python3"
    },
    "language_info": {
      "name": "python"
    }
  },
  "nbformat": 4,
  "nbformat_minor": 0
}
